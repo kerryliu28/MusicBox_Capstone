{
 "cells": [
  {
   "cell_type": "code",
   "execution_count": 1,
   "metadata": {
    "collapsed": true
   },
   "outputs": [],
   "source": [
    "import pandas as pd"
   ]
  },
  {
   "cell_type": "code",
   "execution_count": null,
   "metadata": {
    "collapsed": true
   },
   "outputs": [],
   "source": [
    "import os"
   ]
  },
  {
   "cell_type": "code",
   "execution_count": null,
   "metadata": {
    "collapsed": true
   },
   "outputs": [],
   "source": [
    "filelise = os.listdir('Downloads/play')"
   ]
  },
  {
   "cell_type": "code",
   "execution_count": null,
   "metadata": {
    "collapsed": true
   },
   "outputs": [],
   "source": [
    "# deal with '()' and '-' in song names\n",
    "def formalize(string):\n",
    "    string = str(string)\n",
    "    if('-' in string):\n",
    "        return(string[:string.find('-')])\n",
    "    elif('(' in string):\n",
    "        return(string[:string.find('(')])\n",
    "    elif('（' in string):\n",
    "        return(string[:string.find('（')])\n",
    "    else:\n",
    "        return string.strip()\n",
    "\n",
    "def not_empty(string):\n",
    "    if(string.strip()==''):\n",
    "        return False\n",
    "    else:\n",
    "        return True\n",
    "    \n",
    "def retain_Float(string):\n",
    "    if('.0' in string) or (string.isdigit()):\n",
    "        return string\n",
    "    else:\n",
    "        return ''\n",
    "\n",
    "import re\n",
    "def isnumber(num):\n",
    "    regex = re.compile(r\"^(\\d+)(\\.\\d*)?$\")\n",
    "    if re.match(regex,num):\n",
    "        return True\n",
    "    else:\n",
    "        return False\n",
    "    \n",
    "def check_device(string):\n",
    "    if(string == 'ar') or (string == 'ip') or (string == 'wp'):\n",
    "        return True\n",
    "    else:\n",
    "        return False\n",
    "\n",
    "def check_filename(string):\n",
    "    if 'play.log' in string:\n",
    "        return True\n",
    "    else:\n",
    "        return False\n",
    "    \n",
    "def get_date(file_name):\n",
    "    tmp_list = str(file_name).split('_')\n",
    "    return tmp_list[0]\n",
    "\n",
    "def impute_length(number):\n",
    "    if number == 0:\n",
    "        return 245.0\n",
    "    else:\n",
    "        return number\n",
    "\n",
    "def reasonable(number):\n",
    "    if number > 28800:\n",
    "        return False\n",
    "    else:\n",
    "        return True"
   ]
  },
  {
   "cell_type": "code",
   "execution_count": null,
   "metadata": {
    "collapsed": true
   },
   "outputs": [],
   "source": [
    "# read the file one by one and do manipulation\n",
    "names = []\n",
    "a = 0\n",
    "b = 0\n",
    "for i in filelise:   \n",
    "    if 'fn' in i:\n",
    "        a+= 1\n",
    "        print(i)\n",
    "        try:\n",
    "            df = pd.read_csv('Downloads/play/' + i,delimiter='\\t',header=None,index_col=None,names=schema,encoding ='utf-8')\n",
    "        except UnicodeDecodeError:\n",
    "            print(i+' has mistake')\n",
    "            b+=1\n",
    "            continue\n",
    "        # retain entries with notnull songnames\n",
    "        df = df[df['song_name'].notnull()].copy()\n",
    "        df['song_name_new'] = df['song_name'].map(formalize)\n",
    "        df = df[df['song_name_new'].map(not_empty)]\n",
    "        \n",
    "        # deal with abnormal userid\n",
    "        df['uid'] = df['uid'].astype(str).map(retain_Float)\n",
    "        df = df[df['uid']!=''].copy()\n",
    "        df['uid'] = df['uid'].astype(float).astype(int)\n",
    "        \n",
    "        # device has three types: android iphone and windows phone\n",
    "        df = df[df['device'].astype(str).map(check_device)]\n",
    "        \n",
    "        # filename must have 'play.log' as substring\n",
    "        df = df[df['file_name'].astype(str).map(check_filename)]\n",
    "        \n",
    "        df['date'] = df['file_name'].map(get_date)\n",
    "        \n",
    "        # set all NaN to 0 in play_time and song_length\n",
    "        df['song_length'] = df['song_length'].fillna(0)\n",
    "        df['play_time'] = df['play_time'].fillna(0)\n",
    "        \n",
    "        # retain only numeric value\n",
    "        df['song_length'] = df['song_length'].astype(str)\n",
    "        df['play_time'] = df['play_time'].astype(str)\n",
    "        df = df[df['song_length'].map(isnumber)]\n",
    "        df = df[df['play_time'].map(isnumber)]\n",
    "        df['song_length'] = df['song_length'].astype(float)\n",
    "        df['play_time'] = df['play_time'].astype(float)\n",
    "        df = df[df['play_time'].map(reasonable)]\n",
    "        df['song_length_new'] = df['song_length'].map(impute_length)\n",
    "        df['counts'] = df['play_time']/df['song_length_new']\n",
    "        \n",
    "        \n",
    "        names.append(df['song_name_new'])\n",
    "\n",
    "        output = df[['uid','song_name_new','counts']]\n",
    "        output.to_csv('Downloads/justdata/'+i, sep=',', encoding='utf-8',index=False,header=False)\n",
    "\n",
    "print(\"%s total %s abnormal\" %(a,b))"
   ]
  },
  {
   "cell_type": "code",
   "execution_count": null,
   "metadata": {
    "collapsed": true
   },
   "outputs": [],
   "source": [
    "# get the song names\n",
    "total_songs = set()\n",
    "for i in names:\n",
    "    total_songs = total_songs.union(set(i.unique()))\n",
    "total = list(total_songs)"
   ]
  },
  {
   "cell_type": "code",
   "execution_count": null,
   "metadata": {
    "collapsed": true
   },
   "outputs": [],
   "source": [
    "len(total_songs)"
   ]
  },
  {
   "cell_type": "code",
   "execution_count": null,
   "metadata": {
    "collapsed": true
   },
   "outputs": [],
   "source": [
    "import pickle"
   ]
  },
  {
   "cell_type": "code",
   "execution_count": null,
   "metadata": {
    "collapsed": true
   },
   "outputs": [],
   "source": [
    "# save the long list\n",
    "output = open('Downloads/data.pkl', 'wb')\n",
    "pickle.dump(total, output, -1)"
   ]
  },
  {
   "cell_type": "code",
   "execution_count": null,
   "metadata": {
    "collapsed": true
   },
   "outputs": [],
   "source": [
    "pkl_file = open('Downloads/data.pkl', 'rb')\n",
    "total = pickle.load(pkl_file)"
   ]
  },
  {
   "cell_type": "code",
   "execution_count": null,
   "metadata": {
    "collapsed": true
   },
   "outputs": [],
   "source": [
    "# make a dictionary of songnames for more effeciently search\n",
    "total_dic = {}\n",
    "n=0\n",
    "for i in total:\n",
    "    total_dic[i]=n\n",
    "    n+=1"
   ]
  },
  {
   "cell_type": "code",
   "execution_count": null,
   "metadata": {
    "collapsed": true
   },
   "outputs": [],
   "source": [
    "# cast all song names to int\n",
    "schema = ['uid','song_name','counts']\n",
    "filelist = os.listdir('Downloads/justdata')\n",
    "def name_to_int(string):\n",
    "    return total_dic[string]\n",
    "\n",
    "for i in filelist:\n",
    "    print(i)\n",
    "    df = pd.read_csv('Downloads/justdata/' + i,delimiter=',',header=None,index_col=None,names= schema,encoding ='utf-8')\n",
    "    df['songid'] = df['song_name'].map(name_to_int)\n",
    "    output = df[['uid','songid','counts']]\n",
    "    output.to_csv('Downloads/finaldata/'+i, sep=',', encoding='utf-8',index=False,header=False)"
   ]
  },
  {
   "cell_type": "code",
   "execution_count": null,
   "metadata": {
    "collapsed": true
   },
   "outputs": [],
   "source": [
    "# after concatenate all files into one in command line\n",
    "schema = ['usid','songid','counts']\n",
    "df = pd.read_csv('Downloads/all_play.log.fn' ,delimiter=',',header=None,index_col=None,names=schema,encoding ='utf-8')\n",
    "sum_count = df['counts'].groupby([df['usid'],df['songid']]).sum()\n",
    "a = sum_count.reset_index()"
   ]
  },
  {
   "cell_type": "code",
   "execution_count": null,
   "metadata": {
    "collapsed": true
   },
   "outputs": [],
   "source": [
    "# cast counts to explicit rate\n",
    "def to_rate(number):\n",
    "    if number<1:\n",
    "        return 1\n",
    "    elif number<=5:\n",
    "        return 2\n",
    "    elif number<=30:\n",
    "        return 3\n",
    "    elif number <=100:\n",
    "        return 4\n",
    "    else:\n",
    "        return 5\n",
    "a['rating'] = a['counts'].map(to_rate)"
   ]
  },
  {
   "cell_type": "code",
   "execution_count": null,
   "metadata": {
    "collapsed": true
   },
   "outputs": [],
   "source": [
    "# save the data \n",
    "a[['usid','songid','rating']].to_csv('Downloads/ratingdata', sep=',', encoding='utf-8',index=False,header=False)"
   ]
  }
 ],
 "metadata": {
  "kernelspec": {
   "display_name": "Python 3",
   "language": "python",
   "name": "python3"
  },
  "language_info": {
   "codemirror_mode": {
    "name": "ipython",
    "version": 3
   },
   "file_extension": ".py",
   "mimetype": "text/x-python",
   "name": "python",
   "nbconvert_exporter": "python",
   "pygments_lexer": "ipython3",
   "version": "3.6.0"
  }
 },
 "nbformat": 4,
 "nbformat_minor": 2
}
